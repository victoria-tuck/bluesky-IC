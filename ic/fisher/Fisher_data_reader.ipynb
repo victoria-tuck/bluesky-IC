{
    "cells": [
        {
            "cell_type": "code",
            "execution_count": 1,
            "metadata": {},
            "outputs": [],
            "source": [
                "import pickle\n",
                "import pandas as pd\n",
                "def read_pickle_file(file_path):\n",
                "    with open(file_path, 'rb') as file:\n",
                "        data = pickle.load(file)\n",
                "    return data\n"
            ]
        },
        {
            "cell_type": "code",
            "execution_count": 2,
            "metadata": {},
            "outputs": [],
            "source": [
                "\n",
                "file_path = '../results/casef_20240925_175552_200.0_1.0_1.0_10.0_10.0/fisher_data_1.pkl'\n",
                "data = read_pickle_file(file_path)\n",
                "\n",
                "# Access the data\n",
                "x = data.get('x')\n",
                "prices = data.get('prices')\n",
                "r = data.get('r')\n",
                "agent_constraints = data.get('agent_constraints')\n",
                "adjusted_budgets = data.get('adjusted_budgets')\n",
                "desired_goods = data.get('desired_goods')\n",
                "goods_list = data.get('goods_list')\n",
                "\n",
                "\n",
                "df_x = pd.DataFrame(x.T)  # Transpose to have agents as columns\n",
                "\n",
                "df_x.columns = [f'Agent {i+1}' for i in range(df_x.shape[1])]\n",
                "\n",
                "\n",
                "# Create DataFrames for the rest of the arrays\n",
                "df_prices = pd.DataFrame({'prices': prices})\n",
                "df_r = pd.DataFrame({'r': [item.tolist() for item in r]})\n",
                "df_agent_constraints = pd.DataFrame({'agent_constraints': [item[0].tolist() for item in agent_constraints]})\n",
                "df_adjusted_budgets = pd.DataFrame({'adjusted_budgets': adjusted_budgets})\n",
                "\n",
                "\n"
            ]
        },
        {
            "cell_type": "code",
            "execution_count": null,
            "metadata": {},
            "outputs": [],
            "source": [
                "# len(prices)\n",
                "for index, item in enumerate(goods_list):\n",
                "    print(f\"{index}: {item}\")"
            ]
        },
        {
            "cell_type": "code",
            "execution_count": null,
            "metadata": {},
            "outputs": [],
            "source": [
                "# Display each DataFrame separately\n",
                "# Modify pandas settings to show all rows and columns\n",
                "pd.set_option('display.max_rows', None)     # Show all rows\n",
                "pd.set_option('display.max_columns', None)  # Show all columns\n",
                "pd.set_option('display.width', None)        # Expand the display width\n",
                "\n",
                "display(df_x)\n",
                "# Choose an agent column to display\n",
                "\n",
                "# Display the chosen agent column values of x\n",
                "# Display the chosen agent column values of x and the corresponding goods_list next to each other\n",
                "display(pd.concat([pd.Series(goods_list, name='Goods List'), df_x[\"Agent 8\"]], axis=1))\n",
                "\n",
                "\n",
                "# print(\"\\nDataFrame for 'prices':\")\n",
                "# display(df_prices)\n",
                "\n",
                "# print(\"\\nDataFrame for 'r':\")\n",
                "# display(df_r)\n",
                "\n",
                "# print(\"\\nDataFrame for 'agent_constraints':\")\n",
                "# display(df_agent_constraints)\n",
                "\n",
                "# print(\"\\nDataFrame for 'adjusted_budgets':\")\n",
                "# display(df_adjusted_budgets)"
            ]
        },
        {
            "cell_type": "code",
            "execution_count": null,
            "metadata": {},
            "outputs": [],
            "source": [
                "desired_goods\n",
                "\n",
                "print(\"Aircraft\", \"Desired Good x\", \"X dropout\")\n",
                "for i, key, in enumerate(desired_goods):\n",
                "    index_desired_good = desired_goods[key]['desired_good_dep_to_arr']\n",
                "    fisher_allocation = x[i][index_desired_good] \n",
                "    x_dropout =  x[i][-1]\n",
                "    print(key, goods_list[index_desired_good], f\",{fisher_allocation}\", f\",{x_dropout}\")\n",
                "\n",
                "    "
            ]
        },
        {
            "cell_type": "code",
            "execution_count": null,
            "metadata": {},
            "outputs": [],
            "source": [
                "capacity = data.get('capacity')"
            ]
        },
        {
            "cell_type": "code",
            "execution_count": 7,
            "metadata": {},
            "outputs": [],
            "source": [
                "file_path = '../results/casef_20240917_081204_50.0_1.0_1.0_10.0_10.0/fisher_data_after_1.pkl'\n",
                "data = read_pickle_file(file_path)"
            ]
        },
        {
            "cell_type": "code",
            "execution_count": 8,
            "metadata": {},
            "outputs": [],
            "source": [
                "agents_data = data.get('agents_data')"
            ]
        },
        {
            "cell_type": "code",
            "execution_count": null,
            "metadata": {},
            "outputs": [],
            "source": [
                "agents_data.keys()"
            ]
        },
        {
            "cell_type": "code",
            "execution_count": null,
            "metadata": {},
            "outputs": [],
            "source": [
                "agents_data['AC039']\n"
            ]
        },
        {
            "cell_type": "code",
            "execution_count": null,
            "metadata": {},
            "outputs": [],
            "source": []
        }
    ],
    "metadata": {
        "kernelspec": {
            "display_name": "bsky",
            "language": "python",
            "name": "python3"
        },
        "language_info": {
            "codemirror_mode": {
                "name": "ipython",
                "version": 3
            },
            "file_extension": ".py",
            "mimetype": "text/x-python",
            "name": "python",
            "nbconvert_exporter": "python",
            "pygments_lexer": "ipython3",
            "version": "3.10.14"
        }
    },
    "nbformat": 4,
    "nbformat_minor": 4
}
